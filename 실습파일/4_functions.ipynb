{
 "cells": [
  {
   "cell_type": "markdown",
   "metadata": {},
   "source": [
    "## 실습 #4: 함수(functions)"
   ]
  },
  {
   "cell_type": "code",
   "execution_count": 29,
   "metadata": {},
   "outputs": [
    {
     "name": "stdout",
     "output_type": "stream",
     "text": [
      "2\n",
      "4\n"
     ]
    }
   ],
   "source": [
    "# 함수 정의 및 테스트\n",
    "def my_function(x):\n",
    "    return x + 1\n",
    "print(my_function(1))\n",
    "\n",
    "x = 3\n",
    "print(my_function(x))"
   ]
  },
  {
   "cell_type": "code",
   "execution_count": 26,
   "metadata": {},
   "outputs": [],
   "source": [
    "# 메서드 정의 및 테스트\n",
    "class my_class:\n",
    "    def my_method(self):\n",
    "        return x + 1\n",
    "    \n",
    "#dlstmxjstm(객체)\n",
    "class_one = my_class()\n",
    "\n",
    "x = 2\n",
    "\n",
    "print(class_one.my_method())"
   ]
  },
  {
   "cell_type": "code",
   "execution_count": 36,
   "metadata": {},
   "outputs": [
    {
     "name": "stdout",
     "output_type": "stream",
     "text": [
      "Hello everyone, My name is Sung Been, I was born in 2000, and I live in Suwon\n"
     ]
    }
   ],
   "source": [
    "# 매개변수(parameters)\n",
    "def introduce_myself(name, birthyear, city):\n",
    "    print(\"Hello everyone, My name is %s, I was born in %d, and I live in %s\"  %(name, birthyear, city))\n",
    "          \n",
    "introduce_myself(\"Sung Been\", 2000, \"Suwon\")"
   ]
  },
  {
   "cell_type": "code",
   "execution_count": null,
   "metadata": {},
   "outputs": [],
   "source": [
    "# return 키워드\n",
    "\n",
    "# 예제: leap year(윤년)\n"
   ]
  },
  {
   "cell_type": "code",
   "execution_count": 37,
   "metadata": {},
   "outputs": [
    {
     "name": "stdout",
     "output_type": "stream",
     "text": [
      "(9, 16, 25)\n"
     ]
    }
   ],
   "source": [
    "# 여러 개의 값들을 반환\n",
    "\n",
    "def square_point(x, y, z):\n",
    "    x_squared = x ** 2\n",
    "    y_squared = y ** 2\n",
    "    z_squared = z ** 2\n",
    "    return x_squared, y_squared, z_squared\n",
    "\n",
    "print(square_point(3, 4, 5))\n"
   ]
  },
  {
   "cell_type": "code",
   "execution_count": 39,
   "metadata": {},
   "outputs": [
    {
     "name": "stdout",
     "output_type": "stream",
     "text": [
      "Hello\n",
      "Hello\n"
     ]
    }
   ],
   "source": [
    "# 전역변수\n",
    "a = \"Hello\"\n",
    "\n",
    "def prints_a():\n",
    "    print(a)\n",
    "print(a)\n",
    "prints_a()"
   ]
  },
  {
   "cell_type": "code",
   "execution_count": 48,
   "metadata": {},
   "outputs": [
    {
     "name": "stdout",
     "output_type": "stream",
     "text": [
      "5\n",
      "2\n"
     ]
    }
   ],
   "source": [
    "# 지역변수\n",
    "a = 5\n",
    "\n",
    "def f1():\n",
    "    a = 2  \n",
    "    print(a)\n",
    "\n",
    "\n",
    "print(a)\n",
    "f1()"
   ]
  },
  {
   "cell_type": "code",
   "execution_count": 49,
   "metadata": {},
   "outputs": [
    {
     "name": "stdout",
     "output_type": "stream",
     "text": [
      "7\n"
     ]
    },
    {
     "ename": "NameError",
     "evalue": "name 'value' is not defined",
     "output_type": "error",
     "traceback": [
      "\u001b[1;31m---------------------------------------------------------------------------\u001b[0m",
      "\u001b[1;31mNameError\u001b[0m                                 Traceback (most recent call last)",
      "Input \u001b[1;32mIn [49]\u001b[0m, in \u001b[0;36m<cell line: 6>\u001b[1;34m()\u001b[0m\n\u001b[0;32m      3\u001b[0m     \u001b[38;5;28mprint\u001b[39m(value)\n\u001b[0;32m      5\u001b[0m my_function(\u001b[38;5;241m7\u001b[39m)\n\u001b[1;32m----> 6\u001b[0m \u001b[38;5;28mprint\u001b[39m(\u001b[43mvalue\u001b[49m)\n",
      "\u001b[1;31mNameError\u001b[0m: name 'value' is not defined"
     ]
    }
   ],
   "source": [
    "# 함수 매개변수 = 지역변수\n",
    "def my_function(value):\n",
    "    print(value)\n",
    "    \n",
    "my_function(7)\n",
    "print(value)"
   ]
  },
  {
   "cell_type": "code",
   "execution_count": 52,
   "metadata": {},
   "outputs": [
    {
     "name": "stdout",
     "output_type": "stream",
     "text": [
      "Height = 2\n",
      "Width = 2\n",
      "Depth = 1\n",
      "4\n"
     ]
    }
   ],
   "source": [
    "# 키워드 인자(keyword arguments)와 디폴트 값\n",
    "\n",
    "def findvolume(height=1, width=1, depth=1):\n",
    "    print(\"Height = %s\" % (height))\n",
    "    print(\"Width = %s\" % (width))\n",
    "    print(\"Depth = %s\" % (depth))\n",
    "    return height * width * depth\n",
    "\n",
    "print(findvolume(width = 2, height = 2, depth = 1))\n",
    "    \n"
   ]
  }
 ],
 "metadata": {
  "kernelspec": {
   "display_name": "Python 3 (ipykernel)",
   "language": "python",
   "name": "python3"
  },
  "language_info": {
   "codemirror_mode": {
    "name": "ipython",
    "version": 3
   },
   "file_extension": ".py",
   "mimetype": "text/x-python",
   "name": "python",
   "nbconvert_exporter": "python",
   "pygments_lexer": "ipython3",
   "version": "3.9.12"
  }
 },
 "nbformat": 4,
 "nbformat_minor": 4
}
