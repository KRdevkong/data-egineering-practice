{
 "cells": [
  {
   "cell_type": "markdown",
   "id": "63aa3795-127b-432f-a7cf-f18a65fc022f",
   "metadata": {},
   "source": [
    "# title-1\n",
    "## title-2\n",
    "### title-3\n"
   ]
  },
  {
   "cell_type": "code",
   "execution_count": 2,
   "id": "37512c44-f05d-4d18-8c98-122ea5ead5da",
   "metadata": {},
   "outputs": [
    {
     "name": "stdout",
     "output_type": "stream",
     "text": [
      "My name is Sung Been\n"
     ]
    }
   ],
   "source": [
    "intro = \"My name is \"\n",
    "name = \"Sung Been\"\n",
    "print(intro + name)"
   ]
  },
  {
   "cell_type": "code",
   "execution_count": null,
   "id": "67a0a90b-85cd-4cb4-89fa-2621df5af278",
   "metadata": {},
   "outputs": [],
   "source": [
    "user_name = \"Noh Sung Been\"\n",
    "user_id = 201955053\n",
    "user_email = \"castlekong1019@gmail.com\"\n",
    "is_student = true"
   ]
  },
  {
   "cell_type": "code",
   "execution_count": null,
   "id": "1a19cfe6-0916-4268-b7f2-630539caa37d",
   "metadata": {},
   "outputs": [],
   "source": [
    "x = 1\n",
    "print('x = ', x)\n",
    "print(\"Address of x: \", id(x))\n",
    "x = 2\n",
    "print('x = ', x)\n",
    "print(\"Address of x: \", id(x))"
   ]
  },
  {
   "cell_type": "code",
   "execution_count": null,
   "id": "d1202f8e-b45f-4402-895f-7e141e8d2565",
   "metadata": {},
   "outputs": [],
   "source": [
    "# 올바른 변수명의 예:\n",
    "myvar = \"Jonn\"\n",
    "my_var = \"John\"\n",
    "_my_mar = \"John\"\n",
    "myVar = \"John\"\n",
    "MYVAR = \"John\"\n",
    "myvar2 = \"John\""
   ]
  },
  {
   "cell_type": "code",
   "execution_count": null,
   "id": "976c4ae8-6be0-474d-9802-fd450dce0c14",
   "metadata": {},
   "outputs": [],
   "source": [
    "# 잘못된 변수명 예:\n",
    "2myvar = \"John\"\n",
    "my-var = \"John\"\n",
    "my var = \"john\"\n",
    "\n"
   ]
  },
  {
   "cell_type": "code",
   "execution_count": null,
   "id": "44d90de1-a7b4-481e-abd5-f80c9e81907d",
   "metadata": {},
   "outputs": [],
   "source": [
    "#single line comment\n",
    "\n",
    "\"\"\"\n",
    "This code is for learing the basics of ppython\n",
    "- operators\n",
    "- variables\n",
    "- others\n",
    "\"\"\""
   ]
  },
  {
   "cell_type": "code",
   "execution_count": null,
   "id": "d9d3719e-1411-4ae7-80b9-7d6571af377b",
   "metadata": {},
   "outputs": [],
   "source": [
    "print(10 + 4)\n",
    "print(10 - 4)\n",
    "print(5 * 3)\n",
    "print(4 / 2)\n",
    "print(10 % 3)\n",
    "print(2 **5)\n",
    "b"
   ]
  },
  {
   "cell_type": "code",
   "execution_count": null,
   "id": "46157e7e-74fe-4925-8bf7-df6decfff408",
   "metadata": {},
   "outputs": [],
   "source": [
    "counter = 0\n",
    "counter = counter + 10\n",
    "counter += 10"
   ]
  },
  {
   "cell_type": "code",
   "execution_count": 3,
   "id": "5a2b9f00-c9e5-4987-a211-cd90f5e0908e",
   "metadata": {},
   "outputs": [
    {
     "ename": "SyntaxError",
     "evalue": "invalid syntax (1067136654.py, line 5)",
     "output_type": "error",
     "traceback": [
      "\u001b[1;36m  Input \u001b[1;32mIn [3]\u001b[1;36m\u001b[0m\n\u001b[1;33m    else\u001b[0m\n\u001b[1;37m         ^\u001b[0m\n\u001b[1;31mSyntaxError\u001b[0m\u001b[1;31m:\u001b[0m invalid syntax\n"
     ]
    }
   ],
   "source": [
    "age = 23\n",
    "\n",
    "if age < 30:\n",
    "    print(\"You are young\")\n",
    "else \n",
    "    print(\"you are not young\")"
   ]
  },
  {
   "cell_type": "code",
   "execution_count": null,
   "id": "9157cad0-505c-4f63-b31e-c69ce146ee07",
   "metadata": {},
   "outputs": [],
   "source": [
    "# Tuple은 *(valaye 1, valye 2, ..., value n) 와 같은 형식으로 선언\n",
    "\n",
    "coordinate = (3, 4, 5, \"x\")\n"
   ]
  },
  {
   "cell_type": "code",
   "execution_count": null,
   "id": "d2002bb5-4893-4e59-9ae0-e584df919c0c",
   "metadata": {},
   "outputs": [],
   "source": [
    "my+in"
   ]
  }
 ],
 "metadata": {
  "kernelspec": {
   "display_name": "Python 3 (ipykernel)",
   "language": "python",
   "name": "python3"
  },
  "language_info": {
   "codemirror_mode": {
    "name": "ipython",
    "version": 3
   },
   "file_extension": ".py",
   "mimetype": "text/x-python",
   "name": "python",
   "nbconvert_exporter": "python",
   "pygments_lexer": "ipython3",
   "version": "3.9.12"
  }
 },
 "nbformat": 4,
 "nbformat_minor": 5
}
