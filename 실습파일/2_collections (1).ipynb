{
 "cells": [
  {
   "cell_type": "markdown",
   "id": "5bad2ed0-c1fb-4ead-aeea-40c391addce3",
   "metadata": {},
   "source": [
    "## 파이썬 컬렉션\n",
    "1. 컬렉션 타입 소개\n",
    "2. 리스트"
   ]
  },
  {
   "cell_type": "markdown",
   "id": "18157954-cc12-4d6a-88a6-b886947c6d6a",
   "metadata": {},
   "source": [
    "### 1. 컬렉션 타입 소개\n",
    "+ Immutable Sequence 유형: Tuples, String\n",
    "+ Mutable Sequence 유형: Lists, Sets"
   ]
  },
  {
   "cell_type": "code",
   "execution_count": null,
   "id": "446711b8-5f5a-4d5d-9e30-86bafd61292d",
   "metadata": {},
   "outputs": [],
   "source": [
    "# Tuple은 (value 1, value 2, ..., value n)와 같은 형식으로 선언\n"
   ]
  },
  {
   "cell_type": "code",
   "execution_count": null,
   "id": "df319558-8755-4e84-9788-5c5d740d55cb",
   "metadata": {},
   "outputs": [],
   "source": [
    "# Tuple은 값 변경이 불가능하다(immutable).\n"
   ]
  },
  {
   "cell_type": "code",
   "execution_count": null,
   "id": "bc4325fd-5161-4e46-8adb-d0dbfcd2f320",
   "metadata": {},
   "outputs": [],
   "source": [
    "# String 선언 방식: \"문자열 내용\" 또는 '문자열 내용'\n"
   ]
  },
  {
   "cell_type": "code",
   "execution_count": null,
   "id": "d4fc6ee4-48ed-4460-911e-0d734fec0b19",
   "metadata": {},
   "outputs": [],
   "source": [
    "# String도 역시 immutable\n"
   ]
  },
  {
   "cell_type": "code",
   "execution_count": null,
   "id": "76796d3d-edc0-46f3-b4e5-a3f8374da617",
   "metadata": {},
   "outputs": [],
   "source": [
    "# List 선언 방식: [value 1, value 2, ..., value n]\n"
   ]
  },
  {
   "cell_type": "code",
   "execution_count": null,
   "id": "ac4d3078-15d6-4452-b2d8-b229eae86320",
   "metadata": {},
   "outputs": [],
   "source": [
    "# List는 값 변경(추가, 삭제, 수정)이 가능하다.\n"
   ]
  },
  {
   "cell_type": "code",
   "execution_count": null,
   "id": "ab821b15-b771-4193-b60f-65c72a11ceb2",
   "metadata": {},
   "outputs": [],
   "source": [
    "# Set 선언 방식: set(List 객체)\n"
   ]
  },
  {
   "cell_type": "code",
   "execution_count": null,
   "id": "dcfb78b8-3f58-479f-82e5-366b3eca6bb7",
   "metadata": {},
   "outputs": [],
   "source": [
    "# Dictionary 선언 방식: {'key 1':'value 1', ..., 'key n': 'value n'}\n"
   ]
  },
  {
   "cell_type": "code",
   "execution_count": null,
   "id": "924c20ed-4f2a-465b-ad53-e5721e114315",
   "metadata": {},
   "outputs": [],
   "source": [
    "# Dictionary 값 추가\n"
   ]
  },
  {
   "cell_type": "markdown",
   "id": "b82f3cdc-4ce2-4b53-a8ec-1ddb761be541",
   "metadata": {},
   "source": [
    "### 2. 리스트"
   ]
  },
  {
   "cell_type": "code",
   "execution_count": null,
   "id": "8e747fd1-98a0-41a8-bb95-f955a72b8b4c",
   "metadata": {},
   "outputs": [],
   "source": [
    "# 리스트 선언\n"
   ]
  },
  {
   "cell_type": "code",
   "execution_count": null,
   "id": "584338d4-4a25-4606-9e96-b23c577373a3",
   "metadata": {},
   "outputs": [],
   "source": [
    "# 다양한 유형의 데이터 저장\n"
   ]
  },
  {
   "cell_type": "code",
   "execution_count": null,
   "id": "fe938eff-86ba-41bd-976d-e478eac88dc1",
   "metadata": {},
   "outputs": [],
   "source": [
    "# Zero-indexing\n",
    "names = ['Roger', 'Rafael', 'Andy', 'Novak']\n"
   ]
  },
  {
   "cell_type": "code",
   "execution_count": null,
   "id": "0d6be9bf-af82-4a4c-bdc0-2474ffc6d960",
   "metadata": {},
   "outputs": [],
   "source": [
    "# Negative indexing\n"
   ]
  },
  {
   "cell_type": "code",
   "execution_count": 2,
   "id": "a53fff52-35b9-471a-8f1d-dab4175daca3",
   "metadata": {},
   "outputs": [
    {
     "name": "stdout",
     "output_type": "stream",
     "text": [
      "['만우관', '장공관', '필헌관']\n"
     ]
    }
   ],
   "source": [
    "# 리스트 슬라이싱\n",
    "hsu_buildings = ['만우관', '장공관', '필헌관', '소통관', '송암관', '늦봄관', '장준하통일관']\n",
    "print(hsu_buildings [0 : 3])"
   ]
  },
  {
   "cell_type": "code",
   "execution_count": null,
   "id": "4af9c923-7b9d-4418-828e-b2b59db0fd02",
   "metadata": {},
   "outputs": [],
   "source": [
    "# 다차원 리스트\n",
    "restaurants = [['해우리', '한식', '고S'], ['짜장명가', '중식', '중화비빔밥'], \n",
    "               ['찌개동아리', '한식', '제육전골'], ['맘스터치', '양식', '싸이버거']]\n",
    "restaurants [0],[2] = '해우라면'\n",
    "\n"
   ]
  },
  {
   "cell_type": "code",
   "execution_count": null,
   "id": "65a7dfca-1e1f-4308-9694-7f55497e9dec",
   "metadata": {},
   "outputs": [],
   "source": [
    "# 리스트 병합하기\n",
    "items_one = ['cake', 'cookie', 'bread']\n",
    "items_two = ['biscuit', 'tart']\n"
   ]
  },
  {
   "cell_type": "code",
   "execution_count": null,
   "id": "db4b35fa-d7df-4a8f-b7df-0b4b5ca2008f",
   "metadata": {},
   "outputs": [],
   "source": [
    "# 리스트에서 제공하는 메소드들\n",
    "\n",
    "# len()\n",
    "knapsack = [2, 4, 3, 7, 10]\n",
    "size = len(knapsack)\n",
    "print(size)\n",
    "\n",
    "# append()\n",
    "orders = ['daisies', 'periwinkle']\n",
    "orders.append('tulips')\n",
    "\n",
    "print(orders)\n",
    "\n",
    "# insert()\n",
    "store_line = ['Karla', 'Maxium', 'Martin', 'Isabella']\n",
    "store_line.insert(2, 'Vikor')\n",
    "\n",
    "print(store_line)\n",
    "\n",
    "# sort()\n",
    "\n",
    "numbers = [4, 2, 1, 3]\n",
    "numbers.sort()\n",
    "print(numbers)\n",
    "\n",
    "hsu_buildings = ['만우관', '장공관', '필헌관', '소통관', '송암관', '늦봄관', '장준하통일관']\n",
    "hsu_buildings.sort()\n",
    "\n",
    "print(hsu_buildings)"
   ]
  }
 ],
 "metadata": {
  "kernelspec": {
   "display_name": "Python 3 (ipykernel)",
   "language": "python",
   "name": "python3"
  },
  "language_info": {
   "codemirror_mode": {
    "name": "ipython",
    "version": 3
   },
   "file_extension": ".py",
   "mimetype": "text/x-python",
   "name": "python",
   "nbconvert_exporter": "python",
   "pygments_lexer": "ipython3",
   "version": "3.9.12"
  }
 },
 "nbformat": 4,
 "nbformat_minor": 5
}
